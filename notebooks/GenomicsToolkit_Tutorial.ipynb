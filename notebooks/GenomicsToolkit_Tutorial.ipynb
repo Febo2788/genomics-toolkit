{
 "cells": [
  {
   "cell_type": "markdown",
   "metadata": {},
   "source": [
    "# GenomicsToolkit Complete Tutorial\n",
    "\n",
    "**Quick guide to sequence analysis, variant calling, and visualization**"
   ]
  },
  {
   "cell_type": "code",
   "execution_count": null,
   "metadata": {},
   "outputs": [],
   "source": [
    "# Import everything\n",
    "from genomics_toolkit import SequenceAnalyzer, VariantCaller, Visualizer\n",
    "from genomics_toolkit.utils import FileHandler\n",
    "import matplotlib.pyplot as plt\n",
    "from pathlib import Path\n",
    "\n",
    "# Initialize\n",
    "analyzer = SequenceAnalyzer()\n",
    "caller = VariantCaller()\n",
    "viz = Visualizer()\n",
    "fh = FileHandler()\n",
    "\n",
    "print(\"✅ Ready to go!\")"
   ]
  },
  {
   "cell_type": "markdown",
   "metadata": {},
   "source": [
    "## 1. Basic Sequence Analysis"
   ]
  },
  {
   "cell_type": "code",
   "execution_count": null,
   "metadata": {},
   "outputs": [],
   "source": [
    "# Analyze a sequence\n",
    "seq = \"ATGAAAAAATTTAAAGGGCCCTATGGGGATCTAG\"\n",
    "stats = analyzer.basic_stats(seq)\n",
    "orfs = analyzer.find_orfs(seq, min_length=9)\n",
    "protein = analyzer.translate(seq)\n",
    "\n",
    "print(f\"Sequence: {seq}\")\n",
    "print(f\"Length: {stats['length']} bp, GC: {stats['gc_content']:.1f}%\")\n",
    "print(f\"ORFs found: {len(orfs)}\")\n",
    "print(f\"Protein: {protein}\")"
   ]
  },
  {
   "cell_type": "markdown",
   "metadata": {},
   "source": [
    "## 2. FASTA File Processing"
   ]
  },
  {
   "cell_type": "code",
   "execution_count": null,
   "metadata": {},
   "outputs": [],
   "source": [
    "# Load and analyze FASTA\n",
    "fasta_file = Path(\"../data/sample_sequences.fasta\")\n",
    "if fasta_file.exists():\n",
    "    sequences = list(analyzer.parse_fasta(fasta_file))\n",
    "    print(f\"Loaded {len(sequences)} sequences\")\n",
    "    \n",
    "    for i, (header, seq) in enumerate(sequences[:3]):  # First 3\n",
    "        stats = analyzer.basic_stats(seq)\n",
    "        orfs = analyzer.find_orfs(seq, min_length=50)\n",
    "        print(f\"Seq {i+1}: {len(seq)} bp, GC: {stats['gc_content']:.1f}%, ORFs: {len(orfs)}\")"
   ]
  },
  {
   "cell_type": "markdown",
   "metadata": {},
   "source": [
    "## 3. Variant Calling"
   ]
  },
  {
   "cell_type": "code",
   "execution_count": null,
   "metadata": {},
   "outputs": [],
   "source": [
    "# Simulate variants\n",
    "if 'sequences' in locals() and sequences:\n",
    "    ref_seq = sequences[0][1]\n",
    "    variants = caller.simulate_variants(ref_seq, num_snps=20, num_indels=5)\n",
    "    \n",
    "    # Filter and annotate\n",
    "    filtered = caller.filter_variants(min_quality=25)\n",
    "    annotated = caller.annotate_variants(filtered)\n",
    "    \n",
    "    print(f\"Total variants: {len(variants)}\")\n",
    "    print(f\"After filtering: {len(filtered)}\")\n",
    "    \n",
    "    # Show first few variants\n",
    "    for i, var in enumerate(annotated[:3]):\n",
    "        print(f\"Variant {i+1}: {var.chrom}:{var.pos} {var.ref}>{var.alt} (Q={var.quality:.1f})\")"
   ]
  },
  {
   "cell_type": "markdown",
   "metadata": {},
   "source": [
    "## 4. Visualization"
   ]
  },
  {
   "cell_type": "code",
   "execution_count": null,
   "metadata": {},
   "outputs": [],
   "source": [
    "# Plot sequence composition\n",
    "if 'sequences' in locals() and sequences:\n",
    "    seq = sequences[0][1]\n",
    "    composition = analyzer.composition_analysis(seq, window_size=100)\n",
    "    fig = viz.plot_sequence_composition(composition)\n",
    "    plt.show()\n",
    "\n",
    "# Plot variants\n",
    "if 'annotated' in locals():\n",
    "    fig = viz.plot_variant_statistics(annotated)\n",
    "    plt.show()"
   ]
  },
  {
   "cell_type": "markdown",
   "metadata": {},
   "source": [
    "## 5. CLI Usage Examples\n",
    "\n",
    "```bash\n",
    "# Analyze sequences\n",
    "genomics-toolkit analyze-sequence data/sample_sequences.fasta --report --plots\n",
    "\n",
    "# Call variants\n",
    "genomics-toolkit call-variants data/reference_genome.fasta --simulate --report\n",
    "\n",
    "# Run complete pipeline\n",
    "genomics-toolkit pipeline data/sample_reads.fastq --reference data/reference_genome.fasta\n",
    "```"
   ]
  },
  {
   "cell_type": "markdown",
   "metadata": {},
   "source": [
    "## 6. Export Results"
   ]
  },
  {
   "cell_type": "code",
   "execution_count": null,
   "metadata": {},
   "outputs": [],
   "source": [
    "# Create a simple report\n",
    "if 'annotated' in locals():\n",
    "    results = {\n",
    "        'analysis_type': 'Tutorial Demo',\n",
    "        'sequence_stats': [analyzer.basic_stats(seq) for _, seq in sequences[:3]],\n",
    "        'variant_stats': caller.calculate_population_stats(annotated)\n",
    "    }\n",
    "    \n",
    "    # Generate HTML report\n",
    "    viz.create_html_report(results, '../output/tutorial_report.html')\n",
    "    print(\"📄 Report saved to output/tutorial_report.html\")\n",
    "\n",
    "print(\"🎉 Tutorial complete! You've learned the basics of GenomicsToolkit.\")"
   ]
  }
 ],
 "metadata": {
  "kernelspec": {
   "display_name": "Python 3",
   "language": "python",
   "name": "python3"
  },
  "language_info": {
   "codemirror_mode": {
    "name": "ipython",
    "version": 3
   },
   "file_extension": ".py",
   "mimetype": "text/x-python",
   "name": "python",
   "nbconvert_exporter": "python",
   "pygments_lexer": "ipython3",
   "version": "3.11.0"
  }
 },
 "nbformat": 4,
 "nbformat_minor": 4
}