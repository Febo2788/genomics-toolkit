{
 "cells": [
  {
   "cell_type": "markdown",
   "metadata": {},
   "source": [
    "# GenomicsToolkit GUI Demo\n",
    "\n",
    "**Launch the graphical user interface for easy sequence analysis**"
   ]
  },
  {
   "cell_type": "markdown",
   "metadata": {},
   "source": [
    "## Option 1: Launch GUI from Python"
   ]
  },
  {
   "cell_type": "code",
   "execution_count": null,
   "metadata": {},
   "outputs": [],
   "source": [
    "# Launch the GUI application\n",
    "try:\n",
    "    from genomics_toolkit.gui import main\n",
    "    print(\"🚀 Launching GenomicsToolkit GUI...\")\n",
    "    print(\"📋 Features available:\")\n",
    "    print(\"  • File browser for FASTA/FASTQ selection\")\n",
    "    print(\"  • Sequence analysis with ORF detection\")\n",
    "    print(\"  • Variant calling and filtering\")\n",
    "    print(\"  • Real-time visualization\")\n",
    "    print(\"  • Export results in multiple formats\")\n",
    "    print(\"\\n⚠️  Note: GUI will open in a new window\")\n",
    "    \n",
    "    # Uncomment the line below to launch GUI\n",
    "    # main()\n",
    "    \nexcept ImportError:\n",
    "    print(\"❌ PyQt6 not installed. Install with: pip install PyQt6\")"
   ]
  },
  {
   "cell_type": "markdown",
   "metadata": {},
   "source": [
    "## Option 2: Command Line Launch\n",
    "\n",
    "```bash\n",
    "# Launch GUI directly\n",
    "genomics-toolkit-gui\n",
    "\n",
    "# Or use the script\n",
    "python scripts/run_gui.py\n",
    "```"
   ]
  },
  {
   "cell_type": "markdown",
   "metadata": {},
   "source": [
    "## GUI Features Overview\n",
    "\n",
    "### 📁 **Input Tab**\n",
    "- **File Browser**: Click \"Browse\" to select FASTA/FASTQ files\n",
    "- **Analysis Type**: Choose between Sequence Analysis or Variant Calling\n",
    "- **Parameters**: Adjust analysis parameters with intuitive controls\n",
    "- **One-Click Analysis**: Hit \"Run Analysis\" and watch progress in real-time\n",
    "\n",
    "### 📊 **Results Tab**\n",
    "- **Summary Statistics**: Key metrics displayed immediately\n",
    "- **Detailed Table**: Browse all sequences/variants with sortable columns\n",
    "- **Export Options**: Save results as JSON or CSV\n",
    "\n",
    "### 📈 **Visualization Tab**\n",
    "- **Interactive Plots**: Sequence composition, variant statistics, ORF maps\n",
    "- **Plot Controls**: Switch between different visualization types\n",
    "- **Save Plots**: Export high-quality figures (PNG/PDF)\n",
    "\n",
    "### ⚙️ **Settings Tab**\n",
    "- **Output Directory**: Choose where results are saved\n",
    "- **Performance**: Adjust worker threads for your system\n",
    "\n",
    "## Sample Workflow\n",
    "\n",
    "1. **📂 Load Data**: Click \"Browse\" → Select `data/sample_sequences.fasta`\n",
    "2. **🔧 Set Parameters**: Adjust ORF length (default: 100 bp) and window size\n",
    "3. **▶️ Run Analysis**: Click \"Run Analysis\" and watch the progress bar\n",
    "4. **📋 View Results**: Switch to Results tab to see summary and detailed data\n",
    "5. **📊 Visualize**: Go to Visualization tab for interactive plots\n",
    "6. **💾 Export**: Save your results and plots for reports\n",
    "\n",
    "## Why Use the GUI?\n",
    "\n",
    "✅ **User-Friendly**: No command-line knowledge required  \n",
    "✅ **Visual Feedback**: Real-time progress and immediate results  \n",
    "✅ **Interactive**: Explore data with sortable tables and plots  \n",
    "✅ **Professional**: Publication-ready visualizations  \n",
    "✅ **Efficient**: Drag-and-drop file selection  \n",
    "✅ **Comprehensive**: All GenomicsToolkit features in one interface  "
   ]
  },
  {
   "cell_type": "code",
   "execution_count": null,
   "metadata": {},
   "outputs": [],
   "source": [
    "# Check if sample data is available\n",
    "from pathlib import Path\n",
    "\n",
    "data_dir = Path(\"../data\")\n",
    "if data_dir.exists():\n",
    "    print(\"📂 Sample data available for GUI testing:\")\n",
    "    for file in data_dir.glob(\"*\"):\n",
    "        print(f\"  📄 {file.name}\")\n",
    "    print(\"\\n✅ Ready to launch GUI and test with sample files!\")\nelse:\n",
    "    print(\"⚠️  No sample data found. Run generate_sample_data.py first.\")"
   ]
  }
 ],
 "metadata": {
  "kernelspec": {
   "display_name": "Python 3",
   "language": "python",
   "name": "python3"
  },
  "language_info": {
   "codemirror_mode": {
    "name": "ipython",
    "version": 3
   },
   "file_extension": ".py",
   "mimetype": "text/x-python",
   "name": "python",
   "nbconvert_exporter": "python",
   "pygments_lexer": "ipython3",
   "version": "3.11.0"
  }
 },
 "nbformat": 4,
 "nbformat_minor": 4
}